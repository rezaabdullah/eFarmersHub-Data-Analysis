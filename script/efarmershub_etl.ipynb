{
 "cells": [
  {
   "cell_type": "markdown",
   "metadata": {},
   "source": [
    "# eFarmersHub Data Analysis\n",
    "eFarmersHub data are stored in `gds_database` for data visualization. There are 8 tables:\n",
    "1. Income generating tables: Sale, Machine Rent & Advisory\n",
    "2. Expenditure tables: Purchase, Processing, Expense\n",
    "3. User table: This table stores all the user data\n",
    "\n",
    "The script utilizes `SQLAlchemy` as a database toolkit for CRUD operation while `Pandas` is used for data manipulation."
   ]
  },
  {
   "cell_type": "code",
   "execution_count": 1,
   "metadata": {},
   "outputs": [],
   "source": [
    "# Import Modules\n",
    "# data manipulation and analysis\n",
    "import pandas as pd\n",
    "import numpy as np\n",
    "\n",
    "# database toolkit\n",
    "from sqlalchemy import create_engine, MetaData, inspect, Table, Column, Integer, String, Date, Numeric\n",
    "from sqlalchemy.engine.url import URL\n",
    "from sqlalchemy.sql import select\n",
    "\n",
    "# read env file\n",
    "from dotenv import load_dotenv\n",
    "import os\n",
    "\n",
    "# path handling\n",
    "from pathlib import Path\n",
    "\n",
    "# logging\n",
    "import logging"
   ]
  },
  {
   "cell_type": "code",
   "execution_count": null,
   "metadata": {},
   "outputs": [],
   "source": [
    "# load env variables\n",
    "dotenv_path = Path(\"./.env\")\n",
    "load_dotenv(dotenv_path=dotenv_path)\n",
    "\n",
    "USERNAME = os.getenv(\"USERNAME\")\n",
    "PASSWORD = os.getenv(\"PASSWORD\")\n",
    "HOST = os.getenv(\"HOST\")\n",
    "PORT = os.getenv(\"PORT\")\n",
    "DATABASE = os.getenv(\"DATABASE\")\n",
    "\n",
    "print(DATABASE)"
   ]
  }
 ],
 "metadata": {
  "interpreter": {
   "hash": "381d99941aa843f9feea4709de25f28f27171c4591a40a61ca7894a7d74153c2"
  },
  "kernelspec": {
   "display_name": "Python 3.8.10 ('venv': venv)",
   "language": "python",
   "name": "python3"
  },
  "language_info": {
   "codemirror_mode": {
    "name": "ipython",
    "version": 3
   },
   "file_extension": ".py",
   "mimetype": "text/x-python",
   "name": "python",
   "nbconvert_exporter": "python",
   "pygments_lexer": "ipython3",
   "version": "3.8.10"
  },
  "orig_nbformat": 4
 },
 "nbformat": 4,
 "nbformat_minor": 2
}
